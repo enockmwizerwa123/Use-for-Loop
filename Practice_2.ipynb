{
 "cells": [
  {
   "cell_type": "markdown",
   "id": "ab223df6",
   "metadata": {},
   "source": [
    "# For loop"
   ]
  },
  {
   "cell_type": "code",
   "execution_count": 2,
   "id": "a17ed6d6",
   "metadata": {},
   "outputs": [],
   "source": [
    "# for loop is used when you want to repeat the same thing in given range."
   ]
  },
  {
   "cell_type": "code",
   "execution_count": 1,
   "id": "7df8e622",
   "metadata": {},
   "outputs": [
    {
     "name": "stdout",
     "output_type": "stream",
     "text": [
      "Enock\n",
      "Enock\n",
      "Enock\n",
      "Enock\n",
      "Enock\n"
     ]
    }
   ],
   "source": [
    "for i in range(5):\n",
    "    print(\"Enock\")"
   ]
  },
  {
   "cell_type": "code",
   "execution_count": 5,
   "id": "cbbd91a2",
   "metadata": {},
   "outputs": [
    {
     "name": "stdout",
     "output_type": "stream",
     "text": [
      "Enter a number: 5\n",
      "The square of your number is:  25\n",
      "Enter a number: 6\n",
      "The square of your number is:  36\n",
      "Enter a number: 90\n",
      "The square of your number is:  8100\n",
      "The loop is done!\n"
     ]
    }
   ],
   "source": [
    "#This code will ask a user to enter a number three times and print its\n",
    "for i in range(3):\n",
    "    num=eval(input(\"Enter a number: \"))\n",
    "    print(\"The square of your number is: \", num*num)\n",
    "print('The loop is done!')    "
   ]
  },
  {
   "cell_type": "code",
   "execution_count": 6,
   "id": "3268ba38",
   "metadata": {},
   "outputs": [
    {
     "name": "stdout",
     "output_type": "stream",
     "text": [
      "A\n",
      "B\n",
      "C\n",
      "D\n",
      "C\n",
      "D\n",
      "C\n",
      "D\n",
      "E\n"
     ]
    }
   ],
   "source": [
    "print(\"A\")\n",
    "print(\"B\")\n",
    "for i in range(3):\n",
    "    print(\"C\")\n",
    "    print(\"D\")\n",
    "print(\"E\")    "
   ]
  },
  {
   "cell_type": "markdown",
   "id": "2537a3d9",
   "metadata": {},
   "source": [
    "# The loop variable"
   ]
  },
  {
   "cell_type": "code",
   "execution_count": 10,
   "id": "4abd5981",
   "metadata": {},
   "outputs": [
    {
     "name": "stdout",
     "output_type": "stream",
     "text": [
      "1\n",
      "2\n",
      "3\n"
     ]
    }
   ],
   "source": [
    "for i in range(1,4):\n",
    "    print(i)"
   ]
  },
  {
   "cell_type": "code",
   "execution_count": 9,
   "id": "0b9823b7",
   "metadata": {},
   "outputs": [
    {
     "name": "stdout",
     "output_type": "stream",
     "text": [
      "1 -- Hello\n",
      "2 -- Hello\n",
      "3 -- Hello\n"
     ]
    }
   ],
   "source": [
    "for i in range(3):\n",
    "    print(i+1,\"-- Hello\")"
   ]
  },
  {
   "cell_type": "code",
   "execution_count": 14,
   "id": "066eb62b",
   "metadata": {},
   "outputs": [
    {
     "name": "stdout",
     "output_type": "stream",
     "text": [
      "9 8 7 6 5 4 3 2 1 "
     ]
    }
   ],
   "source": [
    "for i in range(9,0,-1):\n",
    "    print(i,end=\" \")"
   ]
  },
  {
   "cell_type": "code",
   "execution_count": 17,
   "id": "b433b34f",
   "metadata": {},
   "outputs": [
    {
     "name": "stdout",
     "output_type": "stream",
     "text": [
      "2 3 4 5 6 7 Blast off !\n"
     ]
    }
   ],
   "source": [
    "for i in range(2,8,1):\n",
    "    print(i, end=\" \")\n",
    "print(\"Blast off !\")    "
   ]
  },
  {
   "cell_type": "code",
   "execution_count": 27,
   "id": "2a8b12d3",
   "metadata": {},
   "outputs": [
    {
     "name": "stdout",
     "output_type": "stream",
     "text": [
      "0 5 10 15 20 25 30 35 40 45 50 55 60 65 70 75 80 85 90 95 "
     ]
    }
   ],
   "source": [
    "for i in range(100):\n",
    "    if i % 5 == 0:\n",
    "        print(i,end=\" \")"
   ]
  },
  {
   "cell_type": "code",
   "execution_count": 29,
   "id": "5fdea4cb",
   "metadata": {},
   "outputs": [
    {
     "name": "stdout",
     "output_type": "stream",
     "text": [
      "a random number between 1 and 10 is:  10\n"
     ]
    }
   ],
   "source": [
    "from random import randint\n",
    "x =randint(1,10)\n",
    "print(\"a random number between 1 and 10 is: \", x)"
   ]
  },
  {
   "cell_type": "code",
   "execution_count": null,
   "id": "54228a25",
   "metadata": {},
   "outputs": [],
   "source": []
  }
 ],
 "metadata": {
  "kernelspec": {
   "display_name": "Python 3 (ipykernel)",
   "language": "python",
   "name": "python3"
  },
  "language_info": {
   "codemirror_mode": {
    "name": "ipython",
    "version": 3
   },
   "file_extension": ".py",
   "mimetype": "text/x-python",
   "name": "python",
   "nbconvert_exporter": "python",
   "pygments_lexer": "ipython3",
   "version": "3.9.12"
  }
 },
 "nbformat": 4,
 "nbformat_minor": 5
}
